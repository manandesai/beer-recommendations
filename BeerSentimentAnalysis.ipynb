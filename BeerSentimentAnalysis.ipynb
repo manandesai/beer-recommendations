{
 "cells": [
  {
   "cell_type": "markdown",
   "metadata": {
    "id": "Lx2HPwwzlGrm"
   },
   "source": [
    "# Beer Sentiment Analysis"
   ]
  },
  {
   "cell_type": "markdown",
   "metadata": {
    "id": "0awyiUGN5VqF"
   },
   "source": [
    "## Section 1\n",
    "\n",
    "We extract 25 reviews each from the top 250 beers as ranked by Beer Advocate at the following URL:\n",
    "https://www.beeradvocate.com/beer/top-rated/\n",
    "We then save the reviews as a CSV to avoid re-scraping."
   ]
  },
  {
   "cell_type": "code",
   "execution_count": null,
   "metadata": {
    "id": "D3uP4leVrAnr"
   },
   "outputs": [],
   "source": [
    "!pip install selenium\n",
    "!apt-get -q update\n",
    "!apt install -yq chromium-chromedriver\n",
    "!cp /usr/lib/chromium-browser/chromedriver /usr/bin\n",
    "\n",
    "import sys\n",
    "sys.path.insert(0,'/usr/lib/chromium-browser/chromedriver')\n",
    "from selenium import webdriver\n",
    "chrome_options = webdriver.ChromeOptions()\n",
    "chrome_options.add_argument('--headless')\n",
    "chrome_options.add_argument('--no-sandbox')\n",
    "chrome_options.add_argument('--disable-dev-shm-usage')\n",
    "import pandas as pd\n",
    "driver = webdriver.Chrome('chromedriver', options=chrome_options)"
   ]
  },
  {
   "cell_type": "code",
   "execution_count": null,
   "metadata": {
    "id": "SqzfTWLgsTDQ"
   },
   "outputs": [],
   "source": [
    "#get list of urls for top 250 beer products\n",
    "driver.get(\"https://www.beeradvocate.com/beer/top-rated/\")\n",
    "table_rows = driver.find_elements_by_xpath(\"/html/body/div[2]/div/div[2]/div[2]/div[2]/div/div/div[3]/div/div/div[2]/table/tbody/tr/td/a\")\n",
    "links = [row.get_attribute('href') for row in table_rows]"
   ]
  },
  {
   "cell_type": "code",
   "execution_count": null,
   "metadata": {
    "id": "XBtMxJBkrNlM"
   },
   "outputs": [],
   "source": [
    "reviewsdf = pd.DataFrame(columns = ['product_name','product_review','user_rating'])\n",
    "i=0 #counter just for reference\n",
    "for link in links:\n",
    "    driver.get(link)\n",
    "    title = driver.find_element_by_xpath('//*[@id=\"content\"]/div/div/div[3]/div/div/div[1]/h1').text.replace('\\n', ' by ')\n",
    "    i+=1\n",
    "    print(i, title)\n",
    "    ratings_elems = driver.find_elements_by_xpath('/html/body/div[2]/div/div[2]/div[2]/div[2]/div/div/div[3]/div/div/div[2]/div[8]/div/div/div[2]/span[2]')\n",
    "    ratings = []\n",
    "    for rating in ratings_elems:\n",
    "        ratings.append(float(rating.text))\n",
    "    reviews_elems = driver.find_elements_by_xpath('/html/body/div[2]/div/div[2]/div[2]/div[2]/div/div/div[3]/div/div/div[2]/div[8]/div/div/div[2]')\n",
    "    reviews = []\n",
    "    for review in reviews_elems:\n",
    "        lines_list = review.text.split('\\n')\n",
    "        #last 2 lines are date and blank, not useful\n",
    "        lines_list = lines_list[:-2]\n",
    "        #first 5 lines are metadata, not useful\n",
    "        lines_list = lines_list[5:]\n",
    "        reviews.append((' '.join(lines_list)))\n",
    "    for review, rating in list(zip(reviews, ratings)):\n",
    "        reviewsdf.loc[len(reviewsdf)] = [title,review,rating]"
   ]
  },
  {
   "cell_type": "code",
   "execution_count": null,
   "metadata": {
    "id": "QTg1UaUz13Vq"
   },
   "outputs": [],
   "source": [
    "reviewsdf.to_csv('beer_reviews.csv', index=False)"
   ]
  },
  {
   "cell_type": "markdown",
   "metadata": {
    "id": "xdopLMN-8pOL"
   },
   "source": [
    "## **Task B**\n",
    "\n",
    "In this section, we assume that a customer will be using this recommender system by specifying 3 attributes.\n",
    "\n",
    "We do a word frequency analysis first to see what attributes frequently appear and then construct a hypothetical customer.\n"
   ]
  },
  {
   "cell_type": "code",
   "execution_count": null,
   "metadata": {
    "id": "3L9e0Y1G8tLw"
   },
   "outputs": [],
   "source": [
    "import pandas as pd\n",
    "import numpy as np\n",
    "#following file comes from task A\n",
    "reviewsdf = pd.read_csv(\"beer_reviews.csv\").dropna()\n",
    "import nltk\n",
    "from nltk.tokenize import word_tokenize\n",
    "nltk.download('punkt')\n",
    "from nltk.corpus import stopwords\n",
    "nltk.download('stopwords')\n",
    "stop_words = set(stopwords.words('english'))"
   ]
  },
  {
   "cell_type": "code",
   "execution_count": null,
   "metadata": {
    "id": "GSQDprhj516x"
   },
   "outputs": [],
   "source": [
    "term_freq = {}\n",
    "for review in reviewsdf['product_review'].str.lower().values:\n",
    "    words = word_tokenize(review)\n",
    "    for word in words:\n",
    "        if (word in stop_words) or (not word.isalpha()):\n",
    "            continue\n",
    "        if word in term_freq:\n",
    "            term_freq[word] += 1\n",
    "        else:\n",
    "            term_freq[word] = 1"
   ]
  },
  {
   "cell_type": "code",
   "execution_count": null,
   "metadata": {
    "colab": {
     "base_uri": "https://localhost:8080/",
     "height": 867
    },
    "id": "iA2W0Z0b7OuY",
    "outputId": "fefa6d7e-6f19-4e82-b317-12a72c9b8c3b"
   },
   "outputs": [
    {
     "data": {
      "text/plain": [
       "[('beer', 5057),\n",
       " ('head', 3801),\n",
       " ('taste', 3157),\n",
       " ('dark', 2789),\n",
       " ('chocolate', 2752),\n",
       " ('like', 2425),\n",
       " ('sweet', 2381),\n",
       " ('bourbon', 2177),\n",
       " ('one', 2169),\n",
       " ('nice', 2169),\n",
       " ('coffee', 2115),\n",
       " ('notes', 2035),\n",
       " ('nose', 1993),\n",
       " ('vanilla', 1976),\n",
       " ('light', 1923),\n",
       " ('well', 1914),\n",
       " ('finish', 1899),\n",
       " ('good', 1855),\n",
       " ('aroma', 1779),\n",
       " ('orange', 1744),\n",
       " ('carbonation', 1733),\n",
       " ('pours', 1711),\n",
       " ('fruit', 1671),\n",
       " ('bottle', 1651),\n",
       " ('body', 1629),\n",
       " ('bit', 1626),\n",
       " ('flavor', 1593),\n",
       " ('medium', 1556),\n",
       " ('really', 1548),\n",
       " ('white', 1541),\n",
       " ('overall', 1538),\n",
       " ('mouthfeel', 1535),\n",
       " ('little', 1527),\n",
       " ('great', 1518),\n",
       " ('smooth', 1493),\n",
       " ('black', 1481),\n",
       " ('lacing', 1467),\n",
       " ('glass', 1454),\n",
       " ('citrus', 1417),\n",
       " ('flavors', 1389),\n",
       " ('barrel', 1377),\n",
       " ('thick', 1349),\n",
       " ('oak', 1321),\n",
       " ('brown', 1257),\n",
       " ('feel', 1241),\n",
       " ('poured', 1240),\n",
       " ('malt', 1182),\n",
       " ('smell', 1169),\n",
       " ('bitterness', 1167),\n",
       " ('color', 1165)]"
      ]
     },
     "execution_count": 5,
     "metadata": {
      "tags": []
     },
     "output_type": "execute_result"
    }
   ],
   "source": [
    "word_freq = sorted(term_freq.items(), key=lambda item: item[1], reverse=True)\n",
    "word_freq[:50]"
   ]
  },
  {
   "cell_type": "code",
   "execution_count": null,
   "metadata": {
    "id": "LQSCFDf0IZ5L"
   },
   "outputs": [],
   "source": [
    "important_attr = ['dark', 'thick', 'smooth']"
   ]
  },
  {
   "cell_type": "markdown",
   "metadata": {
    "id": "rfqdi7JpI4nd"
   },
   "source": [
    "#### Our customer has said that they want a beer that is **dark**, **thick**, and **smooth**."
   ]
  },
  {
   "cell_type": "markdown",
   "metadata": {
    "id": "NSAOrQJII_Pu"
   },
   "source": [
    "## **Task C**\n",
    "\n",
    "In this section, we perform a similarity analysis using cosine similarity with the 3 customer-specified attributes for each review."
   ]
  },
  {
   "cell_type": "code",
   "execution_count": null,
   "metadata": {
    "id": "c4mEXShiOvpn"
   },
   "outputs": [],
   "source": [
    "from sklearn.metrics.pairwise import cosine_similarity\n",
    "from sklearn.feature_extraction.text import CountVectorizer"
   ]
  },
  {
   "cell_type": "code",
   "execution_count": null,
   "metadata": {
    "id": "rJrKKxJBKRND"
   },
   "outputs": [],
   "source": [
    "text_attr = ' '.join(important_attr)\n",
    "similaritydf = pd.DataFrame(columns = ['product_name','product_review','similarity_score'])\n",
    "for i in range(len(reviewsdf)):\n",
    "    text_review = reviewsdf.iloc[i]['product_review']\n",
    "    documents = [text_attr,text_review]\n",
    "    count_vectorizer = CountVectorizer()\n",
    "    sparse_matrix = count_vectorizer.fit_transform(documents)\n",
    "    doc_term_matrix = sparse_matrix.todense()\n",
    "    df = pd.DataFrame(doc_term_matrix, \n",
    "                    columns = count_vectorizer.get_feature_names(),\n",
    "                    index=['x','y'])\n",
    "    similaritydf.loc[len(similaritydf)] = [reviewsdf.iloc[i]['product_name'],\n",
    "                                          text_review,\n",
    "                                          cosine_similarity(df,df)[0,1]]"
   ]
  },
  {
   "cell_type": "code",
   "execution_count": null,
   "metadata": {
    "colab": {
     "base_uri": "https://localhost:8080/",
     "height": 204
    },
    "id": "PAmRAQzTP73U",
    "outputId": "ccf6d533-4879-4560-b462-cbb80219c910"
   },
   "outputs": [
    {
     "data": {
      "text/html": [
       "<div>\n",
       "<style scoped>\n",
       "    .dataframe tbody tr th:only-of-type {\n",
       "        vertical-align: middle;\n",
       "    }\n",
       "\n",
       "    .dataframe tbody tr th {\n",
       "        vertical-align: top;\n",
       "    }\n",
       "\n",
       "    .dataframe thead th {\n",
       "        text-align: right;\n",
       "    }\n",
       "</style>\n",
       "<table border=\"1\" class=\"dataframe\">\n",
       "  <thead>\n",
       "    <tr style=\"text-align: right;\">\n",
       "      <th></th>\n",
       "      <th>product_name</th>\n",
       "      <th>product_review</th>\n",
       "      <th>similarity_score</th>\n",
       "    </tr>\n",
       "  </thead>\n",
       "  <tbody>\n",
       "    <tr>\n",
       "      <th>0</th>\n",
       "      <td>Kentucky Brunch Brand Stout by Toppling Goliat...</td>\n",
       "      <td>Smell: early morning pancakes and coffee befor...</td>\n",
       "      <td>0.000000</td>\n",
       "    </tr>\n",
       "    <tr>\n",
       "      <th>1</th>\n",
       "      <td>Kentucky Brunch Brand Stout by Toppling Goliat...</td>\n",
       "      <td>2019 vintage. Pours a very dark brown color wi...</td>\n",
       "      <td>0.044151</td>\n",
       "    </tr>\n",
       "    <tr>\n",
       "      <th>2</th>\n",
       "      <td>Kentucky Brunch Brand Stout by Toppling Goliat...</td>\n",
       "      <td>It's hyped... There is a lot of breweries doin...</td>\n",
       "      <td>0.000000</td>\n",
       "    </tr>\n",
       "    <tr>\n",
       "      <th>3</th>\n",
       "      <td>Kentucky Brunch Brand Stout by Toppling Goliat...</td>\n",
       "      <td>Reviewing 2019 vintage. This pours thick and c...</td>\n",
       "      <td>0.093116</td>\n",
       "    </tr>\n",
       "    <tr>\n",
       "      <th>4</th>\n",
       "      <td>Kentucky Brunch Brand Stout by Toppling Goliat...</td>\n",
       "      <td>2018 version. Poured dark with a small head. S...</td>\n",
       "      <td>0.158610</td>\n",
       "    </tr>\n",
       "  </tbody>\n",
       "</table>\n",
       "</div>"
      ],
      "text/plain": [
       "                                        product_name  ... similarity_score\n",
       "0  Kentucky Brunch Brand Stout by Toppling Goliat...  ...         0.000000\n",
       "1  Kentucky Brunch Brand Stout by Toppling Goliat...  ...         0.044151\n",
       "2  Kentucky Brunch Brand Stout by Toppling Goliat...  ...         0.000000\n",
       "3  Kentucky Brunch Brand Stout by Toppling Goliat...  ...         0.093116\n",
       "4  Kentucky Brunch Brand Stout by Toppling Goliat...  ...         0.158610\n",
       "\n",
       "[5 rows x 3 columns]"
      ]
     },
     "execution_count": 21,
     "metadata": {
      "tags": []
     },
     "output_type": "execute_result"
    }
   ],
   "source": [
    "similaritydf.to_csv('beer_reviews_similarity.csv', index=False)\n",
    "similaritydf.head()"
   ]
  },
  {
   "cell_type": "markdown",
   "metadata": {
    "id": "oigoo5RZTq97"
   },
   "source": [
    "## **Task D**\n",
    "\n",
    "Now, for every review we perform feature-level sentiment analysis for each of the 3 features. If an attribute does not appear in a review, the feature-level sentiment is left blank. Otherwise, the sentiment is calculated by taking 3 words to the left and right of the feature (if possible) and then passing that phrase to Vader Sentiment Analyzer. If the feature appears multiple times, we construct multiple phrases and join them before calculating the sentiment. Finally, the average feature-level sentiment for each review is calculated. If none of the features appeared in a review, the average is left blank."
   ]
  },
  {
   "cell_type": "code",
   "execution_count": null,
   "metadata": {
    "id": "XLx4Vwhkzdmx"
   },
   "outputs": [],
   "source": [
    "!pip install vaderSentiment\n",
    "from vaderSentiment.vaderSentiment import SentimentIntensityAnalyzer\n",
    "def get_sentiment_score(text):\n",
    "    sia = SentimentIntensityAnalyzer()\n",
    "    scores = sia.polarity_scores(text)\n",
    "    return(scores['compound'])"
   ]
  },
  {
   "cell_type": "code",
   "execution_count": null,
   "metadata": {
    "id": "yYjrZRF7Tsfi"
   },
   "outputs": [],
   "source": [
    "sim_sent_df = pd.DataFrame(columns = \n",
    "                           ['product_name','product_review','similarity_score',\n",
    "                            'attr1_sent', 'attr2_sent', 'attr3_sent', 'avg_feature_sent'])\n",
    "for i in range(len(similaritydf)):\n",
    "    beer_review = similaritydf.iloc[i]['product_review']\n",
    "    attr1_sent, attr2_sent, attr3_sent = np.nan, np.nan, np.nan\n",
    "    for ix, attr in enumerate(important_attr):\n",
    "        sentiment = np.nan\n",
    "        phrase = []\n",
    "        if attr in beer_review:\n",
    "            #calculate sentiment\n",
    "            words = word_tokenize(beer_review)\n",
    "            words = [word for word in words if word not in stop_words and word.isalpha()]\n",
    "        for w_ix, word in enumerate(words):\n",
    "            if word == attr:\n",
    "                #get three words to the left and three to the right if possible\n",
    "                #and pass to sentiment analyzer\n",
    "                phrase += words[max(w_ix-3,0):min(w_ix+4, len(words))]\n",
    "        sentiment = get_sentiment_score(' '.join(phrase))\n",
    "        if ix==0:\n",
    "            attr1_sent = sentiment\n",
    "        elif ix==1:\n",
    "            attr2_sent = sentiment\n",
    "        elif ix==2:\n",
    "            attr3_sent = sentiment\n",
    "    avg_feature_sent = np.nanmean([attr1_sent, attr2_sent, attr3_sent])\n",
    "    sim_sent_df.loc[len(sim_sent_df)] = [similaritydf.iloc[i]['product_name'],\n",
    "                                       similaritydf.iloc[i]['product_review'],\n",
    "                                       similaritydf.iloc[i]['similarity_score'],\n",
    "                                       attr1_sent, attr2_sent, attr3_sent, avg_feature_sent]"
   ]
  },
  {
   "cell_type": "code",
   "execution_count": null,
   "metadata": {
    "colab": {
     "base_uri": "https://localhost:8080/",
     "height": 289
    },
    "id": "8ua94altx1Es",
    "outputId": "171c0078-97c1-47c9-bfc1-3dbb3844524c"
   },
   "outputs": [
    {
     "data": {
      "text/html": [
       "<div>\n",
       "<style scoped>\n",
       "    .dataframe tbody tr th:only-of-type {\n",
       "        vertical-align: middle;\n",
       "    }\n",
       "\n",
       "    .dataframe tbody tr th {\n",
       "        vertical-align: top;\n",
       "    }\n",
       "\n",
       "    .dataframe thead th {\n",
       "        text-align: right;\n",
       "    }\n",
       "</style>\n",
       "<table border=\"1\" class=\"dataframe\">\n",
       "  <thead>\n",
       "    <tr style=\"text-align: right;\">\n",
       "      <th></th>\n",
       "      <th>product_name</th>\n",
       "      <th>product_review</th>\n",
       "      <th>similarity_score</th>\n",
       "      <th>attr1_sent</th>\n",
       "      <th>attr2_sent</th>\n",
       "      <th>attr3_sent</th>\n",
       "      <th>avg_feature_sent</th>\n",
       "    </tr>\n",
       "  </thead>\n",
       "  <tbody>\n",
       "    <tr>\n",
       "      <th>0</th>\n",
       "      <td>Kentucky Brunch Brand Stout by Toppling Goliat...</td>\n",
       "      <td>Smell: early morning pancakes and coffee befor...</td>\n",
       "      <td>0.000000</td>\n",
       "      <td>NaN</td>\n",
       "      <td>NaN</td>\n",
       "      <td>NaN</td>\n",
       "      <td>NaN</td>\n",
       "    </tr>\n",
       "    <tr>\n",
       "      <th>1</th>\n",
       "      <td>Kentucky Brunch Brand Stout by Toppling Goliat...</td>\n",
       "      <td>2019 vintage. Pours a very dark brown color wi...</td>\n",
       "      <td>0.044151</td>\n",
       "      <td>0.0</td>\n",
       "      <td>NaN</td>\n",
       "      <td>NaN</td>\n",
       "      <td>0.00000</td>\n",
       "    </tr>\n",
       "    <tr>\n",
       "      <th>2</th>\n",
       "      <td>Kentucky Brunch Brand Stout by Toppling Goliat...</td>\n",
       "      <td>It's hyped... There is a lot of breweries doin...</td>\n",
       "      <td>0.000000</td>\n",
       "      <td>NaN</td>\n",
       "      <td>NaN</td>\n",
       "      <td>NaN</td>\n",
       "      <td>NaN</td>\n",
       "    </tr>\n",
       "    <tr>\n",
       "      <th>3</th>\n",
       "      <td>Kentucky Brunch Brand Stout by Toppling Goliat...</td>\n",
       "      <td>Reviewing 2019 vintage. This pours thick and c...</td>\n",
       "      <td>0.093116</td>\n",
       "      <td>NaN</td>\n",
       "      <td>0.0</td>\n",
       "      <td>0.6249</td>\n",
       "      <td>0.31245</td>\n",
       "    </tr>\n",
       "    <tr>\n",
       "      <th>4</th>\n",
       "      <td>Kentucky Brunch Brand Stout by Toppling Goliat...</td>\n",
       "      <td>2018 version. Poured dark with a small head. S...</td>\n",
       "      <td>0.158610</td>\n",
       "      <td>0.0</td>\n",
       "      <td>NaN</td>\n",
       "      <td>0.5859</td>\n",
       "      <td>0.29295</td>\n",
       "    </tr>\n",
       "  </tbody>\n",
       "</table>\n",
       "</div>"
      ],
      "text/plain": [
       "                                        product_name  ... avg_feature_sent\n",
       "0  Kentucky Brunch Brand Stout by Toppling Goliat...  ...              NaN\n",
       "1  Kentucky Brunch Brand Stout by Toppling Goliat...  ...          0.00000\n",
       "2  Kentucky Brunch Brand Stout by Toppling Goliat...  ...              NaN\n",
       "3  Kentucky Brunch Brand Stout by Toppling Goliat...  ...          0.31245\n",
       "4  Kentucky Brunch Brand Stout by Toppling Goliat...  ...          0.29295\n",
       "\n",
       "[5 rows x 7 columns]"
      ]
     },
     "execution_count": 34,
     "metadata": {
      "tags": []
     },
     "output_type": "execute_result"
    }
   ],
   "source": [
    "sim_sent_df.head()"
   ]
  },
  {
   "cell_type": "markdown",
   "metadata": {
    "id": "kvEmrpeIXZy8"
   },
   "source": [
    "## **Task E**\n",
    "\n",
    "We assume that the evaluation score for each product is simply the sum of the average similarity score and the average feature sentiment score. We then will recommend the top 3 products."
   ]
  },
  {
   "cell_type": "code",
   "execution_count": null,
   "metadata": {
    "colab": {
     "base_uri": "https://localhost:8080/",
     "height": 235
    },
    "id": "aLL9pfOwXcz8",
    "outputId": "98509e28-b46e-4197-8c90-2390a962022b"
   },
   "outputs": [
    {
     "data": {
      "text/html": [
       "<div>\n",
       "<style scoped>\n",
       "    .dataframe tbody tr th:only-of-type {\n",
       "        vertical-align: middle;\n",
       "    }\n",
       "\n",
       "    .dataframe tbody tr th {\n",
       "        vertical-align: top;\n",
       "    }\n",
       "\n",
       "    .dataframe thead th {\n",
       "        text-align: right;\n",
       "    }\n",
       "</style>\n",
       "<table border=\"1\" class=\"dataframe\">\n",
       "  <thead>\n",
       "    <tr style=\"text-align: right;\">\n",
       "      <th></th>\n",
       "      <th>similarity_score</th>\n",
       "      <th>avg_feature_sent</th>\n",
       "      <th>eval_score</th>\n",
       "    </tr>\n",
       "    <tr>\n",
       "      <th>product_name</th>\n",
       "      <th></th>\n",
       "      <th></th>\n",
       "      <th></th>\n",
       "    </tr>\n",
       "  </thead>\n",
       "  <tbody>\n",
       "    <tr>\n",
       "      <th>Flora Plum by Hill Farmstead Brewery</th>\n",
       "      <td>0.006035</td>\n",
       "      <td>0.751950</td>\n",
       "      <td>0.757985</td>\n",
       "    </tr>\n",
       "    <tr>\n",
       "      <th>Hefeweissbier by Bayerische Staatsbrauerei Weihenstephan</th>\n",
       "      <td>0.034543</td>\n",
       "      <td>0.472982</td>\n",
       "      <td>0.507525</td>\n",
       "    </tr>\n",
       "    <tr>\n",
       "      <th>Space Trace by Bottle Logic Brewing</th>\n",
       "      <td>0.076611</td>\n",
       "      <td>0.425495</td>\n",
       "      <td>0.502106</td>\n",
       "    </tr>\n",
       "    <tr>\n",
       "      <th>Double Sunshine by Lawson's Finest Liquids</th>\n",
       "      <td>0.005930</td>\n",
       "      <td>0.465267</td>\n",
       "      <td>0.471197</td>\n",
       "    </tr>\n",
       "    <tr>\n",
       "      <th>Bodhi by Columbus Brewing Company</th>\n",
       "      <td>0.016268</td>\n",
       "      <td>0.454500</td>\n",
       "      <td>0.470768</td>\n",
       "    </tr>\n",
       "  </tbody>\n",
       "</table>\n",
       "</div>"
      ],
      "text/plain": [
       "                                                    similarity_score  ...  eval_score\n",
       "product_name                                                          ...            \n",
       "Flora Plum by Hill Farmstead Brewery                        0.006035  ...    0.757985\n",
       "Hefeweissbier by Bayerische Staatsbrauerei Weih...          0.034543  ...    0.507525\n",
       "Space Trace by Bottle Logic Brewing                         0.076611  ...    0.502106\n",
       "Double Sunshine by Lawson's Finest Liquids                  0.005930  ...    0.471197\n",
       "Bodhi by Columbus Brewing Company                           0.016268  ...    0.470768\n",
       "\n",
       "[5 rows x 3 columns]"
      ]
     },
     "execution_count": 31,
     "metadata": {
      "tags": []
     },
     "output_type": "execute_result"
    }
   ],
   "source": [
    "eval_score_df = sim_sent_df.groupby(['product_name'])[['similarity_score','avg_feature_sent']].mean()\n",
    "eval_score_df['eval_score'] = eval_score_df.sum(axis=1)\n",
    "eval_score_df.sort_values(by=\"eval_score\", ascending=False).head()"
   ]
  },
  {
   "cell_type": "markdown",
   "metadata": {
    "id": "-mvB25DDZn_t"
   },
   "source": [
    "We will recommend Flora Plum by Hill Farmstead Brewery, Hefeweissbier by Bayerische Staatsbrauerei Weihenstephan, and Space Trace by Bottle Logic Brewing to the customer."
   ]
  },
  {
   "cell_type": "markdown",
   "metadata": {
    "id": "hFcwhaKtdNjC"
   },
   "source": [
    "## **Task F**\n",
    "\n",
    "We now want to see if the recommendations would change if, instead of cosine similarity, we used word vectors through the spaCy package."
   ]
  },
  {
   "cell_type": "code",
   "execution_count": null,
   "metadata": {
    "id": "oDt27cTSdQDv"
   },
   "outputs": [],
   "source": [
    "import spacy\n",
    "!python -m spacy download en_core_web_md"
   ]
  },
  {
   "cell_type": "code",
   "execution_count": null,
   "metadata": {
    "id": "bhfySJqbVjg_"
   },
   "outputs": [],
   "source": [
    "import en_core_web_md\n",
    "nlp = en_core_web_md.load()\n",
    "sim_sent_df2 = sim_sent_df.copy()"
   ]
  },
  {
   "cell_type": "code",
   "execution_count": null,
   "metadata": {
    "id": "gvt-5zATirej"
   },
   "outputs": [],
   "source": [
    "text1 = ' '.join(important_attr)\n",
    "def get_spacy_sim(prod_review):\n",
    "    doc1 = nlp(text1)\n",
    "    doc2 = nlp(prod_review)\n",
    "    return doc1.similarity(doc2)\n",
    "sim_sent_df2['similarity_score'] = sim_sent_df2['product_review'].map(get_spacy_sim)"
   ]
  },
  {
   "cell_type": "code",
   "execution_count": null,
   "metadata": {
    "colab": {
     "base_uri": "https://localhost:8080/",
     "height": 235
    },
    "id": "zn5xuDvfmqvN",
    "outputId": "65062514-25ca-4d39-9897-9c436ebffa1d"
   },
   "outputs": [
    {
     "data": {
      "text/html": [
       "<div>\n",
       "<style scoped>\n",
       "    .dataframe tbody tr th:only-of-type {\n",
       "        vertical-align: middle;\n",
       "    }\n",
       "\n",
       "    .dataframe tbody tr th {\n",
       "        vertical-align: top;\n",
       "    }\n",
       "\n",
       "    .dataframe thead th {\n",
       "        text-align: right;\n",
       "    }\n",
       "</style>\n",
       "<table border=\"1\" class=\"dataframe\">\n",
       "  <thead>\n",
       "    <tr style=\"text-align: right;\">\n",
       "      <th></th>\n",
       "      <th>similarity_score</th>\n",
       "      <th>avg_feature_sent</th>\n",
       "      <th>eval_score</th>\n",
       "    </tr>\n",
       "    <tr>\n",
       "      <th>product_name</th>\n",
       "      <th></th>\n",
       "      <th></th>\n",
       "      <th></th>\n",
       "    </tr>\n",
       "  </thead>\n",
       "  <tbody>\n",
       "    <tr>\n",
       "      <th>Flora Plum by Hill Farmstead Brewery</th>\n",
       "      <td>0.672477</td>\n",
       "      <td>0.751950</td>\n",
       "      <td>1.424427</td>\n",
       "    </tr>\n",
       "    <tr>\n",
       "      <th>Bodhi by Columbus Brewing Company</th>\n",
       "      <td>0.671971</td>\n",
       "      <td>0.454500</td>\n",
       "      <td>1.126471</td>\n",
       "    </tr>\n",
       "    <tr>\n",
       "      <th>Hefeweissbier by Bayerische Staatsbrauerei Weihenstephan</th>\n",
       "      <td>0.652207</td>\n",
       "      <td>0.472982</td>\n",
       "      <td>1.125189</td>\n",
       "    </tr>\n",
       "    <tr>\n",
       "      <th>Double Sunshine by Lawson's Finest Liquids</th>\n",
       "      <td>0.647936</td>\n",
       "      <td>0.465267</td>\n",
       "      <td>1.113203</td>\n",
       "    </tr>\n",
       "    <tr>\n",
       "      <th>Space Trace by Bottle Logic Brewing</th>\n",
       "      <td>0.680827</td>\n",
       "      <td>0.425495</td>\n",
       "      <td>1.106322</td>\n",
       "    </tr>\n",
       "  </tbody>\n",
       "</table>\n",
       "</div>"
      ],
      "text/plain": [
       "                                                    similarity_score  ...  eval_score\n",
       "product_name                                                          ...            \n",
       "Flora Plum by Hill Farmstead Brewery                        0.672477  ...    1.424427\n",
       "Bodhi by Columbus Brewing Company                           0.671971  ...    1.126471\n",
       "Hefeweissbier by Bayerische Staatsbrauerei Weih...          0.652207  ...    1.125189\n",
       "Double Sunshine by Lawson's Finest Liquids                  0.647936  ...    1.113203\n",
       "Space Trace by Bottle Logic Brewing                         0.680827  ...    1.106322\n",
       "\n",
       "[5 rows x 3 columns]"
      ]
     },
     "execution_count": 42,
     "metadata": {
      "tags": []
     },
     "output_type": "execute_result"
    }
   ],
   "source": [
    "eval_score_df2 = sim_sent_df2.groupby(['product_name'])[['similarity_score','avg_feature_sent']].mean()\n",
    "eval_score_df2['eval_score'] = eval_score_df2.sum(axis=1)\n",
    "eval_score_df2.sort_values(by=\"eval_score\", ascending=False).head()"
   ]
  },
  {
   "cell_type": "markdown",
   "metadata": {
    "id": "MOlSk4F0aYcj"
   },
   "source": [
    "We can see that the similarity scores have all greatly increased because spaCy/word vectors accounts for words that have similar meanings. However, the products recommended do not change that much. The top 5 from cosine similarity and this top 5 include the same beers, just in a different order. In this case, the 3 products we would recommend would be Flora Plum by Hill Farmstead Brewery, Bodhi by Columbus Brewing Company, and Hefeweissbier by Bayerische Staatsbrauerei Weihenstephan.\n",
    "\n",
    "One reason we may not see vast differences is because dark, thick, and smooth are fairly common attributes to describe beer. If we chose more obscure attributes, it's possible that the two measures of similarity would differ greatly. In that scenario, it's likely that spaCy would overestimate the attribute similarity. For example, if one attribute chosen was 'hoppy', spaCy would likely assign a high similarity score to a review mentioned 'malty' because they are similar words in that they both describe beer. However, to an experienced beer drinker, these attributes are very different. In a case like this, spaCy might lead to less accurate results. With fairly general attributes like ours (dark, thick, smooth), this doesn't appear to be the case for our customer."
   ]
  },
  {
   "cell_type": "markdown",
   "metadata": {
    "id": "EB-tWrt3YJo4"
   },
   "source": [
    "## **Task G**\n",
    "\n",
    "We now examine how the recommendations would differ if we simply chose the 3 highest user-rated products overall and whether these products would meet the needs of the user. We return to the BeerAdvocate website and find the top 3 rated beers:\n",
    "* Kentucky Brunch Brand Stout by Toppling Goliath Brewing Company\n",
    "* Marshmallow Handjee by 3 Floyds Brewing Co.\n",
    "* Barrel-Aged Abraxas by Perennial Artisan Ales"
   ]
  },
  {
   "cell_type": "code",
   "execution_count": null,
   "metadata": {
    "colab": {
     "base_uri": "https://localhost:8080/",
     "height": 173
    },
    "id": "uDs0nmb4dSJg",
    "outputId": "12ced64d-e762-4a98-cdbd-e0a8890e5cf1"
   },
   "outputs": [
    {
     "data": {
      "text/html": [
       "<div>\n",
       "<style scoped>\n",
       "    .dataframe tbody tr th:only-of-type {\n",
       "        vertical-align: middle;\n",
       "    }\n",
       "\n",
       "    .dataframe tbody tr th {\n",
       "        vertical-align: top;\n",
       "    }\n",
       "\n",
       "    .dataframe thead th {\n",
       "        text-align: right;\n",
       "    }\n",
       "</style>\n",
       "<table border=\"1\" class=\"dataframe\">\n",
       "  <thead>\n",
       "    <tr style=\"text-align: right;\">\n",
       "      <th></th>\n",
       "      <th>similarity_score</th>\n",
       "      <th>avg_feature_sent</th>\n",
       "      <th>eval_score</th>\n",
       "    </tr>\n",
       "    <tr>\n",
       "      <th>product_name</th>\n",
       "      <th></th>\n",
       "      <th></th>\n",
       "      <th></th>\n",
       "    </tr>\n",
       "  </thead>\n",
       "  <tbody>\n",
       "    <tr>\n",
       "      <th>Kentucky Brunch Brand Stout by Toppling Goliath Brewing Company</th>\n",
       "      <td>0.078574</td>\n",
       "      <td>0.286133</td>\n",
       "      <td>0.364707</td>\n",
       "    </tr>\n",
       "    <tr>\n",
       "      <th>Marshmallow Handjee by 3 Floyds Brewing Co.</th>\n",
       "      <td>0.064799</td>\n",
       "      <td>0.191546</td>\n",
       "      <td>0.256346</td>\n",
       "    </tr>\n",
       "    <tr>\n",
       "      <th>Barrel-Aged Abraxas by Perennial Artisan Ales</th>\n",
       "      <td>0.040149</td>\n",
       "      <td>0.108729</td>\n",
       "      <td>0.148878</td>\n",
       "    </tr>\n",
       "  </tbody>\n",
       "</table>\n",
       "</div>"
      ],
      "text/plain": [
       "                                                    similarity_score  ...  eval_score\n",
       "product_name                                                          ...            \n",
       "Kentucky Brunch Brand Stout by Toppling Goliath...          0.078574  ...    0.364707\n",
       "Marshmallow Handjee by 3 Floyds Brewing Co.                 0.064799  ...    0.256346\n",
       "Barrel-Aged Abraxas by Perennial Artisan Ales               0.040149  ...    0.148878\n",
       "\n",
       "[3 rows x 3 columns]"
      ]
     },
     "execution_count": 52,
     "metadata": {
      "tags": []
     },
     "output_type": "execute_result"
    }
   ],
   "source": [
    "top3_rated = ['Kentucky Brunch Brand Stout by Toppling Goliath Brewing Company',\n",
    "              'Marshmallow Handjee by 3 Floyds Brewing Co.', \n",
    "              'Barrel-Aged Abraxas by Perennial Artisan Ales']\n",
    "eval_score_df.loc[top3_rated,:]"
   ]
  },
  {
   "cell_type": "code",
   "execution_count": null,
   "metadata": {
    "colab": {
     "base_uri": "https://localhost:8080/",
     "height": 173
    },
    "id": "vim1LWuzdoCt",
    "outputId": "38ed5c13-9a20-4761-883f-2d0561d3a5aa"
   },
   "outputs": [
    {
     "data": {
      "text/html": [
       "<div>\n",
       "<style scoped>\n",
       "    .dataframe tbody tr th:only-of-type {\n",
       "        vertical-align: middle;\n",
       "    }\n",
       "\n",
       "    .dataframe tbody tr th {\n",
       "        vertical-align: top;\n",
       "    }\n",
       "\n",
       "    .dataframe thead th {\n",
       "        text-align: right;\n",
       "    }\n",
       "</style>\n",
       "<table border=\"1\" class=\"dataframe\">\n",
       "  <thead>\n",
       "    <tr style=\"text-align: right;\">\n",
       "      <th></th>\n",
       "      <th>similarity_score</th>\n",
       "      <th>avg_feature_sent</th>\n",
       "      <th>eval_score</th>\n",
       "    </tr>\n",
       "    <tr>\n",
       "      <th>product_name</th>\n",
       "      <th></th>\n",
       "      <th></th>\n",
       "      <th></th>\n",
       "    </tr>\n",
       "  </thead>\n",
       "  <tbody>\n",
       "    <tr>\n",
       "      <th>Kentucky Brunch Brand Stout by Toppling Goliath Brewing Company</th>\n",
       "      <td>0.659288</td>\n",
       "      <td>0.286133</td>\n",
       "      <td>0.945421</td>\n",
       "    </tr>\n",
       "    <tr>\n",
       "      <th>Marshmallow Handjee by 3 Floyds Brewing Co.</th>\n",
       "      <td>0.650372</td>\n",
       "      <td>0.191546</td>\n",
       "      <td>0.841918</td>\n",
       "    </tr>\n",
       "    <tr>\n",
       "      <th>Barrel-Aged Abraxas by Perennial Artisan Ales</th>\n",
       "      <td>0.659161</td>\n",
       "      <td>0.108729</td>\n",
       "      <td>0.767890</td>\n",
       "    </tr>\n",
       "  </tbody>\n",
       "</table>\n",
       "</div>"
      ],
      "text/plain": [
       "                                                    similarity_score  ...  eval_score\n",
       "product_name                                                          ...            \n",
       "Kentucky Brunch Brand Stout by Toppling Goliath...          0.659288  ...    0.945421\n",
       "Marshmallow Handjee by 3 Floyds Brewing Co.                 0.650372  ...    0.841918\n",
       "Barrel-Aged Abraxas by Perennial Artisan Ales               0.659161  ...    0.767890\n",
       "\n",
       "[3 rows x 3 columns]"
      ]
     },
     "execution_count": 53,
     "metadata": {
      "tags": []
     },
     "output_type": "execute_result"
    }
   ],
   "source": [
    "eval_score_df2.loc[top3_rated,:]"
   ]
  },
  {
   "cell_type": "markdown",
   "metadata": {
    "id": "zVIwqizwf4rC"
   },
   "source": [
    "If the customer looking for recommendations chose the 3 top-rated beers, it's possible that they would enjoy them. However, it's likely that they would enjoy the beers we recommend them better based on the overall feature-level sentiment scores. The similarity scores are fairly similar to scores of the beers we recommend; this is likely because dark, thick, and smooth are fairly ubiquitous beer attributes likely to appear in many reviews. However, the average feature sentiment is much lower for the top 3 rated beers when compared to the 3 beers we recommend. This means that users are much more positive about the three features relevant to the customer. Hopefully, this means that the customer will enjoy the three beers we recommend more than just picking the overall top-rated beers."
   ]
  }
 ],
 "metadata": {
  "colab": {
   "collapsed_sections": [],
   "name": "BeerSentimentAnalysis.ipynb",
   "provenance": [],
   "toc_visible": true
  },
  "kernelspec": {
   "display_name": "Python 3",
   "language": "python",
   "name": "python3"
  },
  "language_info": {
   "codemirror_mode": {
    "name": "ipython",
    "version": 3
   },
   "file_extension": ".py",
   "mimetype": "text/x-python",
   "name": "python",
   "nbconvert_exporter": "python",
   "pygments_lexer": "ipython3",
   "version": "3.7.6"
  }
 },
 "nbformat": 4,
 "nbformat_minor": 1
}
